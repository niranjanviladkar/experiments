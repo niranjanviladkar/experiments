{
 "cells": [
  {
   "cell_type": "code",
   "execution_count": 3,
   "metadata": {},
   "outputs": [],
   "source": [
    "class GradientDescent():\n",
    "    def __init__(self, alpha=0.001, eps=0.02, max_iterations=500):\n",
    "        self._alpha = alpha\n",
    "        self._eps = eps\n",
    "        self._max_iter = max_iter\n",
    "        self._beta = None\n",
    "\n",
    "    def fit(self, xs, ys):\n",
    "        num_examples, num_features = np.shape(xs)\n",
    "        self._beta = np.ones(num_features)\n",
    "\n",
    "        xs_transposed = xs.transpose()\n",
    "        for i in range(self._max_iterations):\n",
    "            diffs = np.dot(xs,self._thetas) - ys\n",
    "            cost = np.sum(diffs**2) / (2*num_examples)\n",
    "            gradient = np.dot(xs_transposed, diffs) / num_examples\n",
    "            self._beta = self._beta - self._alpha * gradient\n",
    "\n",
    "            if cost < self._eps:\n",
    "                return self._beta\n",
    "\n",
    "        return self._beta\n",
    "\n",
    "    def predict(self, x):\n",
    "        return np.dot(x, self._thetas)"
   ]
  }
 ],
 "metadata": {
  "kernelspec": {
   "display_name": "Python 3",
   "language": "python",
   "name": "python3"
  },
  "language_info": {
   "codemirror_mode": {
    "name": "ipython",
    "version": 3
   },
   "file_extension": ".py",
   "mimetype": "text/x-python",
   "name": "python",
   "nbconvert_exporter": "python",
   "pygments_lexer": "ipython3",
   "version": "3.6.5"
  }
 },
 "nbformat": 4,
 "nbformat_minor": 2
}
