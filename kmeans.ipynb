{
 "cells": [
  {
   "cell_type": "markdown",
   "metadata": {},
   "source": [
    "## Import Statements"
   ]
  },
  {
   "cell_type": "code",
   "execution_count": 1,
   "metadata": {},
   "outputs": [],
   "source": [
    "import pandas as pd\n",
    "import numpy as np"
   ]
  },
  {
   "cell_type": "markdown",
   "metadata": {},
   "source": [
    "## Define functions"
   ]
  },
  {
   "cell_type": "code",
   "execution_count": 2,
   "metadata": {},
   "outputs": [],
   "source": [
    "np.random.seed(seed=123456)\n",
    "\n",
    "def get_initial_center_indices(size=None, k=None):\n",
    "    '''\n",
    "    size: total rows in data ( = highest index + 1)\n",
    "    k = number of clusters\n",
    "    '''\n",
    "    return np.random.choice(a=size, replace=False, size=k)\n",
    "\n",
    "def calculate_distance(a=None, b=None):\n",
    "    '''\n",
    "    a, b : numpy arrays of same length\n",
    "    '''\n",
    "    return np.sqrt(np.sum((a - b) ** 2))\n",
    "\n",
    "def get_distance_from_each_center(x=None, centers=None):\n",
    "    '''\n",
    "    x : numpy array for the datapoint\n",
    "    centers : pandas dataframe where each row represents center\n",
    "    \n",
    "    This function calculates distance of point x from all centers.\n",
    "    '''    \n",
    "    return centers.apply(calculate_distance, axis='columns', b=x)\n",
    "\n",
    "def get_nearest_clusters_index(x=None, centers=None):\n",
    "    '''\n",
    "    x : numpy array for the datapoint\n",
    "    centers : pandas dataframe where each row represents center\n",
    "    \n",
    "    This function calculates distance of point x from all centers.\n",
    "    '''\n",
    "    return np.argmin(get_distance_from_each_center(x, centers).values)"
   ]
  },
  {
   "cell_type": "markdown",
   "metadata": {},
   "source": [
    "## Prepare data"
   ]
  },
  {
   "cell_type": "code",
   "execution_count": 3,
   "metadata": {},
   "outputs": [],
   "source": [
    "data = pd.read_csv(\"~/Downloads/xclara.csv\", header=0)\n",
    "data = data.sample(n=100, random_state=12345)\n",
    "data.reset_index(inplace=True, drop=True)"
   ]
  },
  {
   "cell_type": "markdown",
   "metadata": {},
   "source": [
    "## Inefficient KMeans!"
   ]
  },
  {
   "cell_type": "code",
   "execution_count": 4,
   "metadata": {},
   "outputs": [],
   "source": [
    "def kmeans_my_1(data=None, k=3, max_iter=200):\n",
    "    import copy\n",
    "    \n",
    "    centers = data.loc[np.random.choice(data.shape[0], replace=False, size=k)].reset_index(inplace=False, drop=True)\n",
    "    cur_iter = 0\n",
    "    shouldIterate = True\n",
    "\n",
    "    while shouldIterate:\n",
    "        clusters = data.apply(get_nearest_clusters_index, axis='columns', centers=centers)\n",
    "        old_centers = copy.deepcopy(centers)\n",
    "        \n",
    "        # update centers\n",
    "        for i in range(k):\n",
    "            centers.loc[i] = data.loc[clusters == i].mean()\n",
    "\n",
    "        cur_iter += 1\n",
    "        shouldIterate = any(np.sqrt(np.sum((centers - old_centers) ** 2)) > 1) and cur_iter < max_iter\n",
    "\n",
    "    print(centers)\n",
    "    print(cur_iter)"
   ]
  },
  {
   "cell_type": "markdown",
   "metadata": {},
   "source": [
    "## Our solution is accurate, but sklearn is FAST! \n",
    "~50xfaster!"
   ]
  },
  {
   "cell_type": "code",
   "execution_count": 5,
   "metadata": {},
   "outputs": [
    {
     "name": "stdout",
     "output_type": "stream",
     "text": [
      "sklearn time : 0:00:00.042014\n",
      "[[41.36099029 60.95182088]\n",
      " [67.50411    -8.87655433]\n",
      " [ 9.01868806  8.14900125]]\n",
      "          V1         V2\n",
      "0  67.504110  -8.876554\n",
      "1  41.360990  60.951821\n",
      "2   9.018688   8.149001\n",
      "4\n",
      "solution 1 time : 0:00:01.811799\n",
      "sklearn is faster by 43x\n"
     ]
    }
   ],
   "source": [
    "from sklearn.cluster import KMeans\n",
    "from datetime import datetime\n",
    "\n",
    "km = KMeans(n_clusters=3)\n",
    "\n",
    "start = datetime.now()\n",
    "km.fit(data)\n",
    "sklearn_time = datetime.now() - start\n",
    "print(\"sklearn time : {}\".format(sklearn_time))\n",
    "\n",
    "print(km.cluster_centers_)\n",
    "\n",
    "start = datetime.now()\n",
    "kmeans_my_1(data=data, k=3)\n",
    "our_time = datetime.now() - start\n",
    "print(\"solution 1 time : {}\".format(our_time))\n",
    "print(\"sklearn is faster by {0:.0f}x\".format(our_time / sklearn_time))\n"
   ]
  },
  {
   "cell_type": "markdown",
   "metadata": {},
   "source": [
    "### Let us try to reduce use of dataframe apply function."
   ]
  },
  {
   "cell_type": "code",
   "execution_count": 6,
   "metadata": {},
   "outputs": [],
   "source": [
    "def kmeans_my_2(data=None, k=3, max_iter=200):\n",
    "    import copy\n",
    "    \n",
    "    centers = data.loc[np.random.choice(data.shape[0], replace=False, size=k)].values\n",
    "    clusters = np.array([-1] * data.shape[0])\n",
    "    cur_iter = 0\n",
    "    shouldIterate = True\n",
    "\n",
    "    while shouldIterate:\n",
    "        for nth_row in range(data.shape[0]):\n",
    "            data_row = data.loc[nth_row]\n",
    "            \n",
    "            nearest_cluster = -1\n",
    "            min_distance = float(\"inf\")\n",
    "            \n",
    "            for cluster_num in range(k):\n",
    "                distance = np.sum((centers[cluster_num] - data_row) ** 2)\n",
    "                if distance < min_distance:\n",
    "                    nearest_cluster = cluster_num\n",
    "                    min_distance = distance\n",
    "            \n",
    "            clusters[nth_row] = nearest_cluster\n",
    "                    \n",
    "        old_centers = copy.deepcopy(centers)\n",
    "        \n",
    "        # update centers\n",
    "        for i in range(k):\n",
    "            centers[i] = data.loc[clusters == i].mean().values\n",
    "\n",
    "        cur_iter += 1\n",
    "        \n",
    "        if cur_iter >= max_iter:\n",
    "            break\n",
    "        \n",
    "        shouldIterate = False\n",
    "        \n",
    "        for i in range(centers.shape[0]):\n",
    "            if np.sum((centers[i] - old_centers[i]) ** 2)  > 1:\n",
    "                shouldIterate = True\n",
    "                break\n",
    "\n",
    "    print(centers)\n",
    "    print(cur_iter)"
   ]
  },
  {
   "cell_type": "markdown",
   "metadata": {},
   "source": [
    "## Still sklearn is ~25x faster"
   ]
  },
  {
   "cell_type": "code",
   "execution_count": 7,
   "metadata": {},
   "outputs": [
    {
     "name": "stdout",
     "output_type": "stream",
     "text": [
      "sklearn time : 0:00:00.040630\n",
      "[[67.50411    -8.87655433]\n",
      " [41.36099029 60.95182088]\n",
      " [ 9.01868806  8.14900125]]\n",
      "[[ 9.01868806  8.14900125]\n",
      " [67.50411    -8.87655433]\n",
      " [41.36099029 60.95182088]]\n",
      "5\n",
      "solution 2 time : 0:00:01.483758\n",
      "sklearn is faster by 37x\n"
     ]
    }
   ],
   "source": [
    "from sklearn.cluster import KMeans\n",
    "from datetime import datetime\n",
    "\n",
    "km = KMeans(n_clusters=3)\n",
    "\n",
    "start = datetime.now()\n",
    "km.fit(data)\n",
    "sklearn_time = datetime.now() - start\n",
    "print(\"sklearn time : {}\".format(sklearn_time))\n",
    "\n",
    "print(km.cluster_centers_)\n",
    "\n",
    "start = datetime.now()\n",
    "kmeans_my_2(data=data, k=3)\n",
    "our_time = datetime.now() - start\n",
    "print(\"solution 2 time : {}\".format(our_time))\n",
    "print(\"sklearn is faster by {0:.0f}x\".format(our_time / sklearn_time))\n"
   ]
  },
  {
   "cell_type": "markdown",
   "metadata": {},
   "source": [
    "### Since clusters calculation is bottle neck, let us use numpy there."
   ]
  },
  {
   "cell_type": "code",
   "execution_count": 8,
   "metadata": {},
   "outputs": [],
   "source": [
    "def kmeans_my_3(data=None, k=3, max_iter=200):\n",
    "    import copy\n",
    "    max_iter = 200\n",
    "    k=3\n",
    "    \n",
    "    centers = data.loc[np.random.choice(data.shape[0], replace=False, size=k)].values\n",
    "    cur_iter = 0\n",
    "    shouldIterate = True\n",
    "    clusters = np.array([-1] * data.shape[0])\n",
    "\n",
    "    while shouldIterate:\n",
    "        for nth_row in range(data.shape[0]):\n",
    "            clusters[nth_row] = np.argmin(np.sum((centers - data.loc[nth_row].values) ** 2, axis=1))\n",
    "                    \n",
    "        old_centers = copy.deepcopy(centers)\n",
    "        \n",
    "        # update centers\n",
    "        for i in range(k):\n",
    "            centers[i] = data.loc[clusters == i].mean().values\n",
    "\n",
    "        cur_iter += 1\n",
    "        \n",
    "        if cur_iter >= max_iter:\n",
    "            break\n",
    "        \n",
    "        shouldIterate = any(np.sum((centers - old_centers) ** 2, axis=1) > 1)\n",
    "\n",
    "    print(centers)\n",
    "    print(cur_iter)"
   ]
  },
  {
   "cell_type": "markdown",
   "metadata": {},
   "source": [
    "### With the use of numpy for norm, we are now ~5x slower than sklearn"
   ]
  },
  {
   "cell_type": "code",
   "execution_count": 9,
   "metadata": {},
   "outputs": [
    {
     "name": "stdout",
     "output_type": "stream",
     "text": [
      "sklearn time : 0:00:00.042791\n",
      "[[67.50411    -8.87655433]\n",
      " [ 9.01868806  8.14900125]\n",
      " [41.36099029 60.95182088]]\n",
      "[[ 9.01868806  8.14900125]\n",
      " [41.36099029 60.95182088]\n",
      " [67.50411    -8.87655433]]\n",
      "3\n",
      "solution 3 time : 0:00:00.153458\n",
      "sklearn is faster by 4x\n"
     ]
    }
   ],
   "source": [
    "from sklearn.cluster import KMeans\n",
    "from datetime import datetime\n",
    "\n",
    "km = KMeans(n_clusters=3)\n",
    "\n",
    "start = datetime.now()\n",
    "km.fit(data)\n",
    "sklearn_time = datetime.now() - start\n",
    "print(\"sklearn time : {}\".format(sklearn_time))\n",
    "\n",
    "print(km.cluster_centers_)\n",
    "\n",
    "start = datetime.now()\n",
    "kmeans_my_3(data=data, k=3)\n",
    "our_time = datetime.now() - start\n",
    "print(\"solution 3 time : {}\".format(our_time))\n",
    "print(\"sklearn is faster by {0:.0f}x\".format(our_time / sklearn_time))\n"
   ]
  }
 ],
 "metadata": {
  "kernelspec": {
   "display_name": "Python 3",
   "language": "python",
   "name": "python3"
  },
  "language_info": {
   "codemirror_mode": {
    "name": "ipython",
    "version": 3
   },
   "file_extension": ".py",
   "mimetype": "text/x-python",
   "name": "python",
   "nbconvert_exporter": "python",
   "pygments_lexer": "ipython3",
   "version": "3.6.5"
  }
 },
 "nbformat": 4,
 "nbformat_minor": 2
}
