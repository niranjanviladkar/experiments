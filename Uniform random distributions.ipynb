{
 "cells": [
  {
   "cell_type": "markdown",
   "metadata": {},
   "source": [
    "## Import Statements"
   ]
  },
  {
   "cell_type": "code",
   "execution_count": 4,
   "metadata": {},
   "outputs": [],
   "source": [
    "import pandas as pd\n",
    "import numpy as np"
   ]
  },
  {
   "cell_type": "markdown",
   "metadata": {},
   "source": [
    "## Define functions"
   ]
  },
  {
   "cell_type": "code",
   "execution_count": 5,
   "metadata": {},
   "outputs": [],
   "source": [
    "def rand_0_1():\n",
    "  return np.random.randint(0, 2)\n",
    "\n",
    "def rand_0_6():\n",
    "    sum = 4 * rand_0_1() + 2 * rand_0_1() + rand_0_1()\n",
    "    while sum == 0 or sum == 7:\n",
    "        sum = 4 * rand_0_1() + 2 * rand_0_1() + rand_0_1()\n",
    "    return sum\n"
   ]
  },
  {
   "cell_type": "code",
   "execution_count": 8,
   "metadata": {},
   "outputs": [
    {
     "name": "stdout",
     "output_type": "stream",
     "text": [
      "2    0.16799\n",
      "3    0.16738\n",
      "6    0.16717\n",
      "1    0.16613\n",
      "5    0.16589\n",
      "4    0.16544\n",
      "dtype: float64\n"
     ]
    }
   ],
   "source": [
    "a = []\n",
    "for i in range(100000):\n",
    "    a.append(rand_0_6())\n",
    "    \n",
    "a = pd.Series(a)\n",
    "print(a.value_counts() / a.size)"
   ]
  },
  {
   "cell_type": "code",
   "execution_count": null,
   "metadata": {},
   "outputs": [],
   "source": []
  },
  {
   "cell_type": "code",
   "execution_count": null,
   "metadata": {},
   "outputs": [],
   "source": []
  }
 ],
 "metadata": {
  "kernelspec": {
   "display_name": "Python 3",
   "language": "python",
   "name": "python3"
  },
  "language_info": {
   "codemirror_mode": {
    "name": "ipython",
    "version": 3
   },
   "file_extension": ".py",
   "mimetype": "text/x-python",
   "name": "python",
   "nbconvert_exporter": "python",
   "pygments_lexer": "ipython3",
   "version": "3.6.5"
  }
 },
 "nbformat": 4,
 "nbformat_minor": 2
}
